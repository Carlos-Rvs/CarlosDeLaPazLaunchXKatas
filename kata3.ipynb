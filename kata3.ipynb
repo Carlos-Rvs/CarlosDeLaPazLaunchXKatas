{
 "cells": [
  {
   "cell_type": "markdown",
   "metadata": {},
   "source": [
    "## Advertencia si un asteroide se acerca a la Tierra demasiado rápido."
   ]
  },
  {
   "cell_type": "code",
   "execution_count": null,
   "metadata": {},
   "outputs": [],
   "source": [
    "velocidadAsteroide = 49\n",
    "velocidadSegura = 25\n",
    "\n",
    "if velocidadAsteroide > velocidadSegura:\n",
    "    print(\"Un asteroide se acerca, y viaja a una velocidad de 49 km/s.\")\n",
    "else:\n",
    "    print(\"Un asteroide se aproxima pero no representa un peligro :)\");\n",
    "\n"
   ]
  },
  {
   "cell_type": "markdown",
   "metadata": {},
   "source": [
    "## Alerta para buscar un asteroide en el cielo."
   ]
  },
  {
   "cell_type": "code",
   "execution_count": 14,
   "metadata": {},
   "outputs": [
    {
     "name": "stdout",
     "output_type": "stream",
     "text": [
      "Se acerca un asteroide y es visible\n"
     ]
    }
   ],
   "source": [
    "velocidadAsteroide=19\n",
    "\n",
    "if velocidadAsteroide > 20:\n",
    "    print(\"Se acerca un asteroide\")\n",
    "elif velocidadAsteroide <=20:\n",
    "    print(\"Se acerca un asteroide y es visible\")"
   ]
  },
  {
   "cell_type": "markdown",
   "metadata": {},
   "source": [
    "## Dimensiones de Asteroides"
   ]
  },
  {
   "cell_type": "code",
   "execution_count": 33,
   "metadata": {},
   "outputs": [
    {
     "name": "stdout",
     "output_type": "stream",
     "text": [
      "Aviso un asteroide se aproxima, no representa un peligro podremos ver un rayo de luz\n"
     ]
    }
   ],
   "source": [
    "dimensionesAsteroide= 50\n",
    "velocidadAsteroide = 25\n",
    "\n",
    "if velocidadAsteroide > 25 and dimensionesAsteroide > 25:\n",
    "    print(\"!Advertencia!, un asteroide de grandes dimensiones se acerca a la tierra\")\n",
    "elif velocidadAsteroide >= 20:\n",
    "    print(\"Aviso un asteroide se aproxima, no representa un peligro, podremos ver un rayo de luz\")\n",
    "elif dimensionesAsteroide < 25:\n",
    "    print(\"un asteroide se aproxima, no representa un peligro\")\n",
    "else:\n",
    "    print(\"Nada de que alarmarse!\")"
   ]
  }
 ],
 "metadata": {
  "interpreter": {
   "hash": "ac59ebe37160ed0dfa835113d9b8498d9f09ceb179beaac4002f036b9467c963"
  },
  "kernelspec": {
   "display_name": "Python 3.9.5 64-bit",
   "language": "python",
   "name": "python3"
  },
  "language_info": {
   "codemirror_mode": {
    "name": "ipython",
    "version": 3
   },
   "file_extension": ".py",
   "mimetype": "text/x-python",
   "name": "python",
   "nbconvert_exporter": "python",
   "pygments_lexer": "ipython3",
   "version": "3.9.5"
  },
  "orig_nbformat": 4
 },
 "nbformat": 4,
 "nbformat_minor": 2
}
