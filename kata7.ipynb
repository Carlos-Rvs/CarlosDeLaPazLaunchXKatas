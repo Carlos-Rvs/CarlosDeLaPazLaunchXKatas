{
 "cells": [
  {
   "cell_type": "markdown",
   "metadata": {},
   "source": [
    "## Creación de un bucle \"while\""
   ]
  },
  {
   "cell_type": "code",
   "execution_count": null,
   "metadata": {},
   "outputs": [],
   "source": [
    "# variables en las que almacenaremos las entradas\n",
    "new_planet = \"\"\n",
    "listaPlanetas=[]\n",
    "\n",
    "#creamos un bucle while para capturar las entradas de planetas\n",
    "while  new_planet.lower() != 'done':\n",
    "    if new_planet:\n",
    "        listaPlanetas.append(new_planet)\n",
    "    new_planet = input('Ingrese el nombre del planeta (si quiere finalizar escriba done):')\n"
   ]
  },
  {
   "cell_type": "markdown",
   "metadata": {},
   "source": [
    "## Creación de un ciclo \"for\""
   ]
  },
  {
   "cell_type": "code",
   "execution_count": 6,
   "metadata": {},
   "outputs": [
    {
     "name": "stdout",
     "output_type": "stream",
     "text": [
      "mercurio\n",
      "venus\n",
      "tierra\n",
      "marte\n",
      "urano\n",
      "saturno\n"
     ]
    }
   ],
   "source": [
    "# creamos el ciclo for para mostrar la lista de planetas\n",
    "for planet in listaPlanetas:\n",
    "    print(planet)"
   ]
  }
 ],
 "metadata": {
  "interpreter": {
   "hash": "ac59ebe37160ed0dfa835113d9b8498d9f09ceb179beaac4002f036b9467c963"
  },
  "kernelspec": {
   "display_name": "Python 3.9.5 64-bit",
   "language": "python",
   "name": "python3"
  },
  "language_info": {
   "codemirror_mode": {
    "name": "ipython",
    "version": 3
   },
   "file_extension": ".py",
   "mimetype": "text/x-python",
   "name": "python",
   "nbconvert_exporter": "python",
   "pygments_lexer": "ipython3",
   "version": "3.9.5"
  },
  "orig_nbformat": 4
 },
 "nbformat": 4,
 "nbformat_minor": 2
}
