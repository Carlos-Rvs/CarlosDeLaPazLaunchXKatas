{
 "cells": [
  {
   "cell_type": "markdown",
   "metadata": {},
   "source": [
    "## Calcular la distancia de dos planetas"
   ]
  },
  {
   "cell_type": "code",
   "execution_count": 6,
   "metadata": {},
   "outputs": [
    {
     "name": "stdout",
     "output_type": "stream",
     "text": [
      "628949330\n",
      "390577534\n"
     ]
    }
   ],
   "source": [
    "#Distancia de 2 planetas\n",
    "distanciaTierra = 149597870\n",
    "distanciaJupiter = 778547200\n",
    "\n",
    "#realizamos las operaciones para obtener las distancias\n",
    "\n",
    "distanciaPlanetas= distanciaTierra - distanciaJupiter\n",
    "\n",
    "distanciaMillas= abs(distanciaPlanetas) * 0.621\n",
    "\n",
    "print(abs(distanciaPlanetas))\n",
    "print(round(distanciaMillas))\n"
   ]
  },
  {
   "cell_type": "markdown",
   "metadata": {},
   "source": [
    "## Crear una aplicación para trabajar con números y entrada de usuario"
   ]
  },
  {
   "cell_type": "code",
   "execution_count": 12,
   "metadata": {},
   "outputs": [
    {
     "name": "stdout",
     "output_type": "stream",
     "text": [
      "31236300\n"
     ]
    }
   ],
   "source": [
    "#creamos nuestras entradas\n",
    "primerPlaneta = input('Proporcia la distancia al sol del primer planeta: ')\n",
    "segundoPlaneta = input('Proporcia la distancia al sol del segundo planeta: ')\n",
    "\n",
    "#realizamos las operaciones para determinar la distancia \n",
    "distanciaKm = int(primerPlaneta) - int(segundoPlaneta)\n",
    "\n",
    "distanciaMillas = abs(distanciaKm) * 0.621\n",
    "\n",
    "print(round(distanciaMillas))\n",
    "\n"
   ]
  }
 ],
 "metadata": {
  "interpreter": {
   "hash": "ac59ebe37160ed0dfa835113d9b8498d9f09ceb179beaac4002f036b9467c963"
  },
  "kernelspec": {
   "display_name": "Python 3.9.5 64-bit",
   "language": "python",
   "name": "python3"
  },
  "language_info": {
   "codemirror_mode": {
    "name": "ipython",
    "version": 3
   },
   "file_extension": ".py",
   "mimetype": "text/x-python",
   "name": "python",
   "nbconvert_exporter": "python",
   "pygments_lexer": "ipython3",
   "version": "3.9.5"
  },
  "orig_nbformat": 4
 },
 "nbformat": 4,
 "nbformat_minor": 2
}
