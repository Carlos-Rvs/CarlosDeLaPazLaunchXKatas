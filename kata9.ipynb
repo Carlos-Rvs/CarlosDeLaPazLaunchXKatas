{
 "cells": [
  {
   "cell_type": "markdown",
   "metadata": {},
   "source": [
    "## Ejercicio 1: Trabajar con argumentos en funciones"
   ]
  },
  {
   "cell_type": "code",
   "execution_count": 11,
   "metadata": {},
   "outputs": [
    {
     "name": "stdout",
     "output_type": "stream",
     "text": [
      "46.666666666666664\n",
      "Reporte de Combustible:\n",
      "    Combustible promedio Total: 72.66666666666667\n",
      "    \n"
     ]
    }
   ],
   "source": [
    "# Función para leer 3 tanques de combustible y muestre el promedio\n",
    "def infromeCombustible(tanque1, tanque2, tanque3):\n",
    "    promedioCombustible = (tanque1 + tanque2 + tanque3)/3\n",
    "    return promedioCombustible\n",
    "# Llamamos a la función que genera el reporte print(funcion(tanque1, tanque2, tanque3))\n",
    "print(infromeCombustible(50, 20, 70))\n",
    "\n",
    "# Función promedio\n",
    "def promedioCombustible(combustible):\n",
    "    combustibleTotal= sum(combustible)\n",
    "    cantidadTanques=len(combustible)\n",
    "    promedio= combustibleTotal/cantidadTanques\n",
    "    return promedio\n",
    "\n",
    "promedioCombustible([50, 20, 70])\n",
    "\n",
    "# Actualiza la función\n",
    "def reporteCombustible(tanque1, tanque2, tanque3):\n",
    "    return f\"\"\"Reporte de Combustible:\n",
    "    Combustible promedio Total: {promedioCombustible([tanque1,tanque2,tanque3])}\n",
    "    \"\"\"\n",
    "print(reporteCombustible(48,80,90))"
   ]
  },
  {
   "cell_type": "markdown",
   "metadata": {},
   "source": [
    "## Trabajar con argumentos de palabras clave en funciones"
   ]
  },
  {
   "cell_type": "code",
   "execution_count": 44,
   "metadata": {},
   "outputs": [
    {
     "name": "stdout",
     "output_type": "stream",
     "text": [
      "Mision con destino a: luna \n",
      "    tiempo de vuelo: 70\n",
      "    Cantidad de conbustible en la nave: 60000 \n",
      "\n",
      "Informe de misión:\n",
      "    Destino: luna\n",
      "    Tiempo estimado: 89\n",
      "    Reserva de combustible: 120000\n",
      "    \n",
      "\n",
      "Informe de misión:\n",
      "    Destino: luna\n",
      "    Tiempo estimado: 89\n",
      "    Reserva de combustible: 120000\n",
      "    \n",
      "\n",
      "    Información de la cantidad de Combustible:\n",
      "tanqueInterno : 80000\n",
      "tanqueExterno : 40000\n",
      "\n"
     ]
    }
   ],
   "source": [
    "# Función con un informe preciso de la misión. Considera hora de prelanzamiento, tiempo de vuelo, destino, tanque externo y tanque interno\n",
    "def informeMision(horaPreLanzamiento, tiempoVuelo, destino, tanqueExterno, tanqueInterno):\n",
    "    return f\"\"\"Mision con destino a: {destino} \n",
    "    tiempo de vuelo: {tiempoVuelo + horaPreLanzamiento}\n",
    "    Cantidad de conbustible en la nave: {tanqueExterno + tanqueInterno} \\n\"\"\"\n",
    "\n",
    "print(informeMision(19, 51, \"luna\", 50000, 10000))\n",
    "\n",
    "# Nueva función de reporte\n",
    "def infoMision(destino, *minutes, **fuel_reservoirs):\n",
    "    return f\"\"\"Informe de misión:\n",
    "    Destino: {destino}\n",
    "    Tiempo estimado: {sum(minutes)}\n",
    "    Reserva de combustible: {sum(fuel_reservoirs.values())}\n",
    "    \\n\"\"\"\n",
    "print(infoMision(\"luna\", 18,51,20, tanqueInterno=80000, tanqueExterno=40000))\n",
    "\n",
    "#actualizamos la función para usar el nombre de cada tanque en el informe\n",
    "def tanquesNave(destino, *minutes, **fuel_reservoirs):\n",
    "    informe = f\"\"\"Informe de misión:\n",
    "    Destino: {destino}\n",
    "    Tiempo estimado: {sum(minutes)}\n",
    "    Reserva de combustible: {sum(fuel_reservoirs.values())}\n",
    "    \\n\n",
    "    Información de la cantidad de Combustible:\\n\"\"\"\n",
    "    nombreTanques= {}\n",
    "    for nombreTanque, cantidadCombustible in fuel_reservoirs.items():\n",
    "        informe += f'{nombreTanque} : {cantidadCombustible}\\n'\n",
    "\n",
    "    return informe\n",
    "\n",
    "\n",
    "print(tanquesNave(\"luna\", 18,51,20, tanqueInterno=80000, tanqueExterno=40000))\n"
   ]
  }
 ],
 "metadata": {
  "interpreter": {
   "hash": "ac59ebe37160ed0dfa835113d9b8498d9f09ceb179beaac4002f036b9467c963"
  },
  "kernelspec": {
   "display_name": "Python 3.9.5 64-bit",
   "language": "python",
   "name": "python3"
  },
  "language_info": {
   "codemirror_mode": {
    "name": "ipython",
    "version": 3
   },
   "file_extension": ".py",
   "mimetype": "text/x-python",
   "name": "python",
   "nbconvert_exporter": "python",
   "pygments_lexer": "ipython3",
   "version": "3.9.5"
  },
  "orig_nbformat": 4
 },
 "nbformat": 4,
 "nbformat_minor": 2
}
