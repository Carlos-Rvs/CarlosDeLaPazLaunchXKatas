{
 "cells": [
  {
   "cell_type": "markdown",
   "metadata": {},
   "source": [
    "## Creación de diccionarios de Python"
   ]
  },
  {
   "cell_type": "code",
   "execution_count": 17,
   "metadata": {},
   "outputs": [
    {
     "name": "stdout",
     "output_type": "stream",
     "text": [
      "Mars tiene 2 lunas\n",
      "La circunferencia polar de Mars es de 6752 Km\n"
     ]
    }
   ],
   "source": [
    "# Se crea un diccionario que almacenara los datos del planeta\n",
    "planet ={\n",
    "    'name': 'Mars',\n",
    "    'moons': 2\n",
    "}\n",
    "# mostramos el nombre de planeta y el numero de lunas que tiene \n",
    "print(f\"{planet['name']} tiene {planet['moons']} lunas\")\n",
    "\n",
    "# Agrega la clave circunferencia con los datos proporcionados\n",
    "planet.update({\n",
    "    'circunferencia':{\n",
    "        'polar': 6752,\n",
    "        'equatorial': 6792\n",
    "    }\n",
    "})\n",
    "print(f\"La circunferencia polar de {planet['name']} es de {planet['circunferencia']['polar']} Km\")"
   ]
  },
  {
   "cell_type": "markdown",
   "metadata": {},
   "source": [
    "## Programación dinámica con diccionarios"
   ]
  },
  {
   "cell_type": "code",
   "execution_count": 11,
   "metadata": {},
   "outputs": [
    {
     "name": "stdout",
     "output_type": "stream",
     "text": [
      "El total de lunas en el sistema solar es de 214\n",
      "el promedio de lunas es: 17.833333333333332\n"
     ]
    }
   ],
   "source": [
    "# calcular tanto el número total de lunas en el sistema solar como el número promedio de lunas que tiene un planeta.\n",
    "\n",
    "# Planets and moons\n",
    "planet_moon = {\n",
    "    'mercury': 0,\n",
    "    'venus': 0,\n",
    "    'earth': 1,\n",
    "    'mars': 2,\n",
    "    'jupiter': 79,\n",
    "    'saturn': 82,\n",
    "    'uranus': 27,\n",
    "    'neptune': 14,\n",
    "    'pluto': 5,\n",
    "    'haumea': 2,\n",
    "    'makemake': 1,\n",
    "    'eris': 1\n",
    "}\n",
    "\n",
    "#declaramos la variable que almacenara el numero de lunas\n",
    "moons = 0\n",
    "planets = len(planet_moon.keys())\n",
    "\n",
    "for values in planet_moon.values():\n",
    "    moons = moons + values\n",
    "\n",
    "promedioLunas = moons/planets\n",
    "print(f\"El total de lunas en el sistema solar es de {moons}\")\n",
    "print(f\"el promedio de lunas es: {promedioLunas}\")"
   ]
  }
 ],
 "metadata": {
  "interpreter": {
   "hash": "ac59ebe37160ed0dfa835113d9b8498d9f09ceb179beaac4002f036b9467c963"
  },
  "kernelspec": {
   "display_name": "Python 3.9.5 64-bit",
   "language": "python",
   "name": "python3"
  },
  "language_info": {
   "codemirror_mode": {
    "name": "ipython",
    "version": 3
   },
   "file_extension": ".py",
   "mimetype": "text/x-python",
   "name": "python",
   "nbconvert_exporter": "python",
   "pygments_lexer": "ipython3",
   "version": "3.9.5"
  },
  "orig_nbformat": 4
 },
 "nbformat": 4,
 "nbformat_minor": 2
}
