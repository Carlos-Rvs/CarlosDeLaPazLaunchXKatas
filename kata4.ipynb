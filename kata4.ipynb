{
 "cells": [
  {
   "cell_type": "markdown",
   "metadata": {},
   "source": [
    "## Transformar cadenas"
   ]
  },
  {
   "cell_type": "code",
   "execution_count": 61,
   "metadata": {},
   "outputs": [
    {
     "name": "stdout",
     "output_type": "stream",
     "text": [
      " \n",
      "On average, the Moon moves 4cm away from the Earth every year\n",
      " The highest daylight temperature of the Moon is 127 C\n",
      " \n",
      "On average, the Moon moves 4cm away from the Earth every year\n",
      " The highest daylight temperature of the Moon is 127 Celsius\n"
     ]
    }
   ],
   "source": [
    "text = \"\"\"Interesting facts about the Moon. The Moon is Earth's only satellite. There are several interesting facts about the Moon and how it affects life here on Earth. \n",
    "On average, the Moon moves 4cm away from the Earth every year. This yearly drift is not significant enough to cause immediate effects on Earth. The highest daylight temperature of the Moon is 127 C.\"\"\"\n",
    "\n",
    "#guardamos texto en una variable\n",
    "textoTratado=text.split('.')\n",
    "\n",
    "#palabras clave a buscar\n",
    "palabras= ['average','temperature','distance']\n",
    "\n",
    "#recorremos el texto para buscar coincidencias\n",
    "for buscarPalabras in textoTratado:\n",
    "    for palabrasClave in palabras:\n",
    "        if palabrasClave in buscarPalabras:\n",
    "            print(buscarPalabras)\n",
    "            break\n",
    "\n",
    "#Realizamos otro recorrido y reemplazamos 'C' por 'Celsius'\n",
    "for buscarPalabras in textoTratado:\n",
    "    for palabrasClave in palabras:\n",
    "        if palabrasClave in buscarPalabras:\n",
    "            print(buscarPalabras.replace('C','Celsius'))\n",
    "            break\n",
    "\n",
    "\n",
    "        "
   ]
  },
  {
   "cell_type": "markdown",
   "metadata": {},
   "source": [
    "## Formateando Cadenas"
   ]
  },
  {
   "cell_type": "code",
   "execution_count": 5,
   "metadata": {},
   "outputs": [
    {
     "name": "stdout",
     "output_type": "stream",
     "text": [
      "Gravity Facts About Moon\n",
      "\n",
      "Planet Name: Earth\n",
      "Gravity on Moon: 1.6199999999999999 m/s2 \n",
      "\n"
     ]
    }
   ],
   "source": [
    "# Datos con los que vas a trabajar\n",
    "name = \"Moon\"\n",
    "gravity = 0.00162 # in kms\n",
    "planet = \"Earth\"\n",
    "\n",
    "#creamos un titulo\n",
    "title = f\"\"\"Gravity Facts about {name}\"\"\"\n",
    "\n",
    "# Creamos la plantilla\n",
    "hechos = f\"\"\"\n",
    "Planet Name: {planet}\n",
    "Gravity on {name}: {gravity*1000} m/s2 \n",
    "\"\"\"\n",
    "\n",
    "# Unión de ambas cadenas\n",
    "datos= f\"\"\"{title.title()}\n",
    "{hechos}\"\"\"\n",
    "\n",
    "print(datos)"
   ]
  },
  {
   "cell_type": "code",
   "execution_count": 10,
   "metadata": {},
   "outputs": [
    {
     "name": "stdout",
     "output_type": "stream",
     "text": [
      "Gravity Facts About Moon\n",
      "\n",
      "Planet Name: Earth\n",
      "Gravity on Moon: 1.6199999999999999 m/s2 \n",
      "\n",
      "\n",
      "Datos de gravedad sobre Ganímedes\n",
      "--------------------------------------------\n",
      "Nombre del planeta: Marte\n",
      "Gravedad en Ganímedes: 1.4300000000000002 m/s2\n",
      "\n"
     ]
    }
   ],
   "source": [
    "# Ahora usa información de una luna diferente\n",
    "\n",
    "planeta = 'Marte'\n",
    "gravedad  = 0.00143\n",
    "nombre = 'Ganímedes'\n",
    "\n",
    "# Comprueba la plantilla\n",
    "# print(nombre_plantilla)\n",
    "print(datos)\n",
    "\n",
    "# Nueva plantilla\n",
    "nuevaPLantilla = f\"\"\"\n",
    "Datos de gravedad sobre {nombre}\n",
    "--------------------------------------------\n",
    "Nombre del planeta: {planeta}\n",
    "Gravedad en {nombre}: {gravedad*1000} m/s2\n",
    "\"\"\"\n",
    "\n",
    "# Pista: print(nueva_plantilla.format(variables))\n",
    "print(nuevaPLantilla.format(nombre=nombre, planeta=planeta, gravedad=gravedad))"
   ]
  }
 ],
 "metadata": {
  "interpreter": {
   "hash": "ac59ebe37160ed0dfa835113d9b8498d9f09ceb179beaac4002f036b9467c963"
  },
  "kernelspec": {
   "display_name": "Python 3.9.5 64-bit",
   "language": "python",
   "name": "python3"
  },
  "language_info": {
   "codemirror_mode": {
    "name": "ipython",
    "version": 3
   },
   "file_extension": ".py",
   "mimetype": "text/x-python",
   "name": "python",
   "nbconvert_exporter": "python",
   "pygments_lexer": "ipython3",
   "version": "3.9.5"
  },
  "orig_nbformat": 4
 },
 "nbformat": 4,
 "nbformat_minor": 2
}
