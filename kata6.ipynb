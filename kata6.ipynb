{
 "cells": [
  {
   "cell_type": "markdown",
   "metadata": {},
   "source": [
    "## Crear y usar listas de Python"
   ]
  },
  {
   "cell_type": "code",
   "execution_count": null,
   "metadata": {},
   "outputs": [],
   "source": [
    "#creamos nuestra variable que almacenara los planetas\n",
    "planets= ['Mercurio', 'Venus', 'Tierra', 'Marte','Jupiter', 'Saturno', 'Urano', 'Neptuno']\n",
    "\n",
    "#imprimimos la cantidad de elementos en la lista\n",
    "print(\"El sistema solar esta conformado por \"+ str(len(planets)) + \" planetas.\")\n",
    "\n",
    "# Agregamos a plutón y mostramos el último elemento en la lista\n",
    "planets.append('Plutón')\n",
    "\n",
    "print(planets[8])\n"
   ]
  },
  {
   "cell_type": "markdown",
   "metadata": {},
   "source": [
    "## Trabajando con datos de una lista\n",
    "Mostrar planetas más cercanos al sol que el que el usuario ingresó"
   ]
  },
  {
   "cell_type": "code",
   "execution_count": 4,
   "metadata": {},
   "outputs": [
    {
     "name": "stdout",
     "output_type": "stream",
     "text": [
      "Los planetas mas cercanos al sol respecto al planeta ingresado por el usuario son: Mercury, Venus\n",
      "Los planetas mas alejados al sol respecto al planeta ingresado por el usuario son: Mars, Jupiter, Saturn, Uranus, Neptune\n"
     ]
    }
   ],
   "source": [
    "#Lista de planetas\n",
    "planets = ['Mercury', 'Venus', 'Earth', 'Mars', 'Jupiter', 'Saturn', 'Uranus', 'Neptune']\n",
    "\n",
    "#Solicitamos al usuario ingresar el nombre de un planeta iniciado con la primer latra en mayuscula\n",
    "\n",
    "nombrePlaneta = input(\"Ingrese el nombre de un planeta (ingrese el nombre iniciando con la primer letra en mayuscula): \")\n",
    "\n",
    "#buscamos el planeta en la lista\n",
    "posicionPlaneta = planets.index(nombrePlaneta)\n",
    "\n",
    "#Mostramos los planetas mas cercamos al sol e imprimimos sus nombres\n",
    "planetasCercanos = planets[0:posicionPlaneta]\n",
    "print('Los planetas mas cercanos al sol respecto al planeta ingresado por el usuario son: ' + \", \".join(planetasCercanos))\n",
    "\n",
    "# Mostrar los planetas mas alejados del sol\n",
    "planetasLejanos = planets[posicionPlaneta+1 :8]\n",
    "print('Los planetas mas alejados al sol respecto al planeta ingresado por el usuario son: ' + \", \".join(planetasLejanos))\n",
    "\n"
   ]
  }
 ],
 "metadata": {
  "interpreter": {
   "hash": "ac59ebe37160ed0dfa835113d9b8498d9f09ceb179beaac4002f036b9467c963"
  },
  "kernelspec": {
   "display_name": "Python 3.9.5 64-bit",
   "language": "python",
   "name": "python3"
  },
  "language_info": {
   "codemirror_mode": {
    "name": "ipython",
    "version": 3
   },
   "file_extension": ".py",
   "mimetype": "text/x-python",
   "name": "python",
   "nbconvert_exporter": "python",
   "pygments_lexer": "ipython3",
   "version": "3.9.5"
  },
  "orig_nbformat": 4
 },
 "nbformat": 4,
 "nbformat_minor": 2
}
